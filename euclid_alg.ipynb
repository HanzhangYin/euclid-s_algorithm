{
  "nbformat": 4,
  "nbformat_minor": 0,
  "metadata": {
    "colab": {
      "provenance": [],
      "authorship_tag": "ABX9TyNVmGvKraRxLrvUnOufEvE4",
      "include_colab_link": true
    },
    "kernelspec": {
      "name": "python3",
      "display_name": "Python 3"
    },
    "language_info": {
      "name": "python"
    }
  },
  "cells": [
    {
      "cell_type": "markdown",
      "metadata": {
        "id": "view-in-github",
        "colab_type": "text"
      },
      "source": [
        "<a href=\"https://colab.research.google.com/github/HanzhangYin/euclid-s_algorithm/blob/main/euclid_alg.ipynb\" target=\"_parent\"><img src=\"https://colab.research.google.com/assets/colab-badge.svg\" alt=\"Open In Colab\"/></a>"
      ]
    },
    {
      "cell_type": "markdown",
      "source": [
        "### Import values of two numbers x and y. "
      ],
      "metadata": {
        "id": "7lkiyEiUcgJ6"
      }
    },
    {
      "cell_type": "code",
      "execution_count": null,
      "metadata": {
        "id": "Kp59m3XoHrks",
        "colab": {
          "base_uri": "https://localhost:8080/"
        },
        "outputId": "4a434eda-f9a4-4377-ae6e-6fa7636ee8a0"
      },
      "outputs": [
        {
          "output_type": "stream",
          "name": "stdout",
          "text": [
            "        0       155         1         0\n",
            "        0        37         0         1\n",
            "        4         7         1        -4\n",
            "        5         2        -5        21\n",
            "        3         1        16       -67\n"
          ]
        }
      ],
      "source": [
        "x = 37\n",
        "y = 155\n",
        "A = max(x, y)\n",
        "B = min(x, y)\n",
        "k_1 = 1\n",
        "k_2 = 0\n",
        "l_1 = 0\n",
        "l_2 = 1\n",
        "format_string=\"{:>9} {:>9} {:>9} {:>9}\"\n",
        "print(format_string.format(0, A, k_1, l_1))\n",
        "print(format_string.format(0, B, k_2, l_2))\n",
        "while A % B != 0:\n",
        "  q = (A - A % B) / B\n",
        "  C = A - q * B\n",
        "  k_3 = k_1 - q * k_2\n",
        "  l_3 = l_1 - q * l_2\n",
        "  print(format_string.format(int(q), int(C), int(k_3), int(l_3)))\n",
        "  k_1 = k_2\n",
        "  k_2 = k_3\n",
        "  l_1 = l_2\n",
        "  l_2 = l_3\n",
        "  A = B\n",
        "  B = C"
      ]
    }
  ]
}